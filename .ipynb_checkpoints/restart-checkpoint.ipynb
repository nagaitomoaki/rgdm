{
 "cells": [
  {
   "cell_type": "markdown",
   "metadata": {},
   "source": [
    "### Import Library"
   ]
  },
  {
   "cell_type": "code",
   "execution_count": 1,
   "metadata": {},
   "outputs": [],
   "source": [
    "import win32gui\n",
    "import win32api\n",
    "import win32con\n",
    "import time\n",
    "from PIL import ImageGrab\n",
    "import ctypes\n",
    "from ctypes import sizeof\n",
    "from ctypes.wintypes import RECT\n",
    "import cv2\n",
    "import numpy as np\n",
    "import pyautogui\n",
    "from matplotlib import pyplot as plt"
   ]
  },
  {
   "cell_type": "code",
   "execution_count": 2,
   "metadata": {},
   "outputs": [],
   "source": [
    "class Rgdm:\n",
    "    \n",
    "    def __init__(self): \n",
    "        \"\"\"Set handle from window class name\n",
    "        Make sure dispaly size 540x960 dpi240 in mobile\"\"\"\n",
    "        \n",
    "        self.__screen = None\n",
    "        HWND_p = win32gui.FindWindow(\"LDPlayerMainFrame\",\"LDPlayer\")\n",
    "        self.__HWND_c = win32gui.FindWindowEx(HWND_p, None , \"RenderWindow\",\"TheRender\")\n",
    "        print('Handle ID :{0}, Handle ID in 16:{1}'.format(self.__HWND_c, hex(self.__HWND_c)))\n",
    "        \n",
    "    def Click(self, x, y): \n",
    "        \"\"\"Click function\"\"\"\n",
    "        \n",
    "        lParam = win32api.MAKELONG(x, y)\n",
    "        win32gui.SendMessage(self.__HWND_c, win32con.WM_LBUTTONDOWN, win32con.MK_LBUTTON, lParam)\n",
    "        time.sleep(0.2)\n",
    "        win32gui.SendMessage(self.__HWND_c, win32con.WM_LBUTTONUP,win32con.MK_LBUTTON, lParam)\n",
    "        \n",
    "    def Drag(x_s,y_s,x_e,y_e): \n",
    "        \"\"\"Drag from (x_s,y_s) to (x_e,y_e)\"\"\"\n",
    "        \n",
    "        lParam_start = win32api.MAKELONG(x_s, y_s)\n",
    "        lParam_end = win32api.MAKELONG(x_e, y_e)\n",
    "    \n",
    "        #set iteration \n",
    "        ITE=10\n",
    "        delx=(x_e-x_s)/ITE\n",
    "        dely=(y_e-y_s)/ITE\n",
    "        x=x_s\n",
    "        y=y_s\n",
    "    \n",
    "        #click first\n",
    "        win32api.SendMessage(self.__HWND_c, win32con.WM_LBUTTONDOWN,win32con.MK_LBUTTON, lParam_start)\n",
    "        time.sleep(0.8)\n",
    "    \n",
    "        #move\n",
    "        for i in range(ITE+1):\n",
    "            lParam_ite = win32api.MAKELONG(x, y)\n",
    "            win32api.SendMessage(self.__HWND_c, win32con.WM_MOUSEMOVE, 0, lParam_ite)\n",
    "            time.sleep(0.05)\n",
    "            x+=int(delx)\n",
    "            y+=int(dely)\n",
    "    \n",
    "        #click up \n",
    "        time.sleep(0.2)\n",
    "        win32api.SendMessage(self.__HWND_c, win32con.WM_LBUTTONUP,win32con.MK_LBUTTON, lParam_end)\n",
    "        \n",
    "    def Capture(self):\n",
    "        \"\"\"Capture __screen\"\"\"\n",
    "        \n",
    "        print(self.__HWND_c)\n",
    "        rect = win32gui.GetWindowRect(self.__HWND_c)\n",
    "        grabed_image = ImageGrab.grab()\n",
    "        croped_image = grabed_image.crop(rect)\n",
    "        self.__screen=np.asarray(croped_image)\n",
    "        \n",
    "    def Judge_Matching(self,num):\n",
    "        \"\"\"Judge whether success of detection\"\"\"\n",
    "        \n",
    "        THRESHOLD=0.7\n",
    "        if THRESHOLD < num:\n",
    "            return True\n",
    "        else:\n",
    "            return False\n",
    "        \n",
    "    def Judge_Matching_battle(self,num):\n",
    "        \"\"\"Judge whether success of detection\"\"\"\n",
    "        \n",
    "        THRESHOLD=0.8\n",
    "        if THRESHOLD < num:\n",
    "            return True\n",
    "        else:\n",
    "            return False\n",
    "    \n",
    "    def Matching(self,template):\n",
    "        \"\"\"Template Matching for detection of object\"\"\"\n",
    "        \n",
    "        #Size of image\n",
    "        h, w = template.shape[0:2]\n",
    "        # Apply template Matching\n",
    "        res = cv2.matchTemplate(self.__screen,template,cv2.TM_CCOEFF_NORMED)\n",
    "        min_val, max_val, min_loc, max_loc = cv2.minMaxLoc(res)\n",
    "        #Judge by threshold\n",
    "        judge=self.Judge_Matching(max_val)\n",
    "        print(judge)\n",
    "        print(\"threshold=\",max_val)\n",
    "        # Show result\n",
    "        screen_result=self.__screen.copy()\n",
    "        top_left = max_loc\n",
    "        bottom_right = (top_left[0] + w, top_left[1] + h)\n",
    "        cv2.rectangle(screen_result,top_left, bottom_right, 255, 15)\n",
    "        img_rgb = cv2.cvtColor(screen_result, cv2.COLOR_BGR2RGB)\n",
    "        plt.imshow(img_rgb)\n",
    "        plt.show()\n",
    "        center_x=top_left[0]+w/2\n",
    "        center_y=top_left[1]+h/2\n",
    "        return center_x, center_y,judge\n",
    "        \n",
    "    def Get_template(self):\n",
    "        \"\"\"Get template image\"\"\"\n",
    "        \n",
    "        #read image\n",
    "        SOLO= cv2.imread('img/etc/solo.png',1)\n",
    "        BATU= cv2.imread('img/etc/batu.png',1)\n",
    "        HOME= cv2.imread('img/etc/home.png',1)\n",
    "        MAIN= cv2.imread('img/etc/mainstory.png',1)\n",
    "        START= cv2.imread('img/etc/start.png',1)\n",
    "        START2= cv2.imread('img/etc/start2.png',1)\n",
    "        OK= cv2.imread('img/etc/ok.png',1)\n",
    "        SKIP= cv2.imread('img/etc/skip.png',1)\n",
    "        #Make template \n",
    "        template=[START2, MAIN, HOME, START, OK, SOLO, BATU, SKIP]\n",
    "        return template\n",
    "        \n",
    "    def Get_template_number(self):\n",
    "        \"\"\"Get template image\"\"\"\n",
    "    \n",
    "        #read image\n",
    "        ONE= cv2.imread('img/number/1.png',1)\n",
    "        TWO= cv2.imread('img/number/2.png',1)\n",
    "        THREE= cv2.imread('img/number/3.png',1)\n",
    "        FOUR= cv2.imread('img/number/4.png',1)\n",
    "        FIVE= cv2.imread('img/number/5.png',1)\n",
    "        SIX= cv2.imread('img/number/6.png',1)\n",
    "        SEVEN= cv2.imread('img/number/7.png',1)\n",
    "        #make template\n",
    "        template=[SEVEN, SIX, FIVE, FOUR, THREE, TWO, ONE]\n",
    "        return template\n",
    "    \n",
    "    def Get_template_battle(self):\n",
    "        \"\"\"Get template image\"\"\"\n",
    "        \n",
    "        #read image\n",
    "        SUMMON= cv2.imread('img/battle/summon.png',1)\n",
    "        TRIGGER= cv2.imread('img/battle/trigger.png',1)\n",
    "        OK= cv2.imread('img/battle/ok.png',1)\n",
    "    \n",
    "        #make template\n",
    "        template=[SUMMON, TRIGGER, OK]\n",
    "        return template\n",
    "    \n",
    "    def To_battle(self,BATTLE_FLAG):\n",
    "        \"\"\"Proceding to battle __screen\"\"\"\n",
    "        \n",
    "        #Initialize\n",
    "        NEXT_FLAG=False\n",
    "    \n",
    "        #Get __screen image\n",
    "        self.__screen=Capture()\n",
    "    \n",
    "        #Get template\n",
    "        template=Get_template()\n",
    "    \n",
    "        #Proceed battale \n",
    "        for i in range(len(template)):\n",
    "            x,y,judge=Matching(template[i])\n",
    "            if judge==True:\n",
    "                Click(int(x),int(y))\n",
    "                NEXT_FLAG=True\n",
    "            \n",
    "        #check battle \n",
    "        x,y,judge=Matching(cv2.imread('img/etc/battle.png',1))\n",
    "        if judge==True:\n",
    "            BATTLE_FLAG=True\n",
    "            \n",
    "        #random click       \n",
    "        if NEXT_FLAG!=True:\n",
    "            Click(400,200)#適当に中央クリック\n",
    "            print(\"random click\")\n",
    "        \n",
    "        return BATTLE_FLAG"
   ]
  },
  {
   "cell_type": "markdown",
   "metadata": {},
   "source": [
    "### Battle"
   ]
  },
  {
   "cell_type": "code",
   "execution_count": 3,
   "metadata": {},
   "outputs": [
    {
     "name": "stdout",
     "output_type": "stream",
     "text": [
      "Handle ID :67096, Handle ID in 16:0x10618\n",
      "67096\n",
      "False\n",
      "threshold= 0.298059344291687\n"
     ]
    },
    {
     "data": {
      "image/png": "[encoded data removed]",
      "text/plain": [
       "<Figure size 432x288 with 1 Axes>"
      ]
     },
     "metadata": {
      "needs_background": "light"
     },
     "output_type": "display_data"
    },
    {
     "name": "stdout",
     "output_type": "stream",
     "text": [
      "False\n",
      "threshold= 0.2605413794517517\n"
     ]
    },
    {
     "data": {
      "image/png": "[encoded data removed]",
      "text/plain": [
       "<Figure size 432x288 with 1 Axes>"
      ]
     },
     "metadata": {
      "needs_background": "light"
     },
     "output_type": "display_data"
    },
    {
     "name": "stdout",
     "output_type": "stream",
     "text": [
      "False\n",
      "threshold= 0.2210523784160614\n"
     ]
    },
    {
     "data": {
      "image/png": "[encoded data removed]",
      "text/plain": [
       "<Figure size 432x288 with 1 Axes>"
      ]
     },
     "metadata": {
      "needs_background": "light"
     },
     "output_type": "display_data"
    },
    {
     "name": "stdout",
     "output_type": "stream",
     "text": [
      "False\n",
      "threshold= 0.30001407861709595\n"
     ]
    },
    {
     "data": {
      "image/png": "[encoded data removed]",
      "text/plain": [
       "<Figure size 432x288 with 1 Axes>"
      ]
     },
     "metadata": {
      "needs_background": "light"
     },
     "output_type": "display_data"
    },
    {
     "name": "stdout",
     "output_type": "stream",
     "text": [
      "False\n",
      "threshold= 0.32195648550987244\n"
     ]
    },
    {
     "data": {
      "image/png": "[encoded data removed]",
      "text/plain": [
       "<Figure size 432x288 with 1 Axes>"
      ]
     },
     "metadata": {
      "needs_background": "light"
     },
     "output_type": "display_data"
    },
    {
     "name": "stdout",
     "output_type": "stream",
     "text": [
      "False\n",
      "threshold= 0.2643052041530609\n"
     ]
    },
    {
     "data": {
      "image/png": "[encoded data removed]",
      "text/plain": [
       "<Figure size 432x288 with 1 Axes>"
      ]
     },
     "metadata": {
      "needs_background": "light"
     },
     "output_type": "display_data"
    },
    {
     "name": "stdout",
     "output_type": "stream",
     "text": [
      "False\n",
      "threshold= 0.23624484241008759\n"
     ]
    },
    {
     "data": {
      "image/png": "[encoded data removed]",
      "text/plain": [
       "<Figure size 432x288 with 1 Axes>"
      ]
     },
     "metadata": {
      "needs_background": "light"
     },
     "output_type": "display_data"
    },
    {
     "name": "stdout",
     "output_type": "stream",
     "text": [
      "False\n",
      "threshold= 0.346455454826355\n"
     ]
    },
    {
     "data": {
      "image/png": "[encoded data removed]",
      "text/plain": [
       "<Figure size 432x288 with 1 Axes>"
      ]
     },
     "metadata": {
      "needs_background": "light"
     },
     "output_type": "display_data"
    },
    {
     "name": "stdout",
     "output_type": "stream",
     "text": [
      "False\n",
      "threshold= 0.33650410175323486\n"
     ]
    },
    {
     "data": {
      "image/png": "[encoded data removed]",
      "text/plain": [
       "<Figure size 432x288 with 1 Axes>"
      ]
     },
     "metadata": {
      "needs_background": "light"
     },
     "output_type": "display_data"
    },
    {
     "name": "stdout",
     "output_type": "stream",
     "text": [
      "False\n",
      "threshold= 0.22990356385707855\n"
     ]
    },
    {
     "data": {
      "image/png": "[encoded data removed]",
      "text/plain": [
       "<Figure size 432x288 with 1 Axes>"
      ]
     },
     "metadata": {
      "needs_background": "light"
     },
     "output_type": "display_data"
    }
   ],
   "source": [
    "#Generate instance\n",
    "Rgdm = Rgdm()\n",
    "\n",
    "#Get screen image\n",
    "Rgdm.Capture()\n",
    "    \n",
    "#Get template\n",
    "template_number=Rgdm.Get_template_number()\n",
    "template_battle=Rgdm.Get_template_battle()\n",
    "\n",
    "#Battle\n",
    "#send card to mana zone \n",
    "for i in range(len(template_number)):\n",
    "    x,y,judge=Rgdm.Matching(template_number[i])\n",
    "    if judge==True:\n",
    "        Rgdm.Drag(int(x+10),int(y+10), 40, 508)\n",
    "        break\n",
    "\n",
    "#summon monster(shape is important)\n",
    "for i in range(len(template_battle)):\n",
    "    x,y,judge=Rgdm.Matching(template_battle[i])\n",
    "    if judge==True:\n",
    "        Rgdm.Drag(int(x),int(y+50), 480, 270)\n",
    "    else:\n",
    "        continue\n",
    "#matching threathold渡す\n",
    "#for(;;) break この中にfor(;;) break or while バトル中、バトルまでとか\n"
   ]
  },
  {
   "cell_type": "code",
   "execution_count": null,
   "metadata": {},
   "outputs": [],
   "source": []
  }
 ],
 "metadata": {
  "kernelspec": {
   "display_name": "Python 3",
   "language": "python",
   "name": "python3"
  },
  "language_info": {
   "codemirror_mode": {
    "name": "ipython",
    "version": 3
   },
   "file_extension": ".py",
   "mimetype": "text/x-python",
   "name": "python",
   "nbconvert_exporter": "python",
   "pygments_lexer": "ipython3",
   "version": "3.7.7"
  }
 },
 "nbformat": 4,
 "nbformat_minor": 4
}
