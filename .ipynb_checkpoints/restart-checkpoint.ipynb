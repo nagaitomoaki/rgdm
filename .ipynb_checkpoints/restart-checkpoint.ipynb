{
 "cells": [
  {
   "cell_type": "markdown",
   "metadata": {},
   "source": [
    "### Import library"
   ]
  },
  {
   "cell_type": "code",
   "execution_count": 5,
   "metadata": {},
   "outputs": [],
   "source": [
    "from pywinauto.application import Application\n",
    "from time import sleep\n",
    "from pywinauto import mouse\n",
    "import cv2\n",
    "import numpy as np\n",
    "from matplotlib import pyplot as plt"
   ]
  },
  {
   "cell_type": "markdown",
   "metadata": {},
   "source": [
    "### Function "
   ]
  },
  {
   "cell_type": "code",
   "execution_count": null,
   "metadata": {},
   "outputs": [],
   "source": [
    "def Click(x, y):\n",
    "    mouse.click(button='left', coords=(x,y))"
   ]
  },
  {
   "cell_type": "code",
   "execution_count": null,
   "metadata": {},
   "outputs": [],
   "source": [
    "def OpenApp():\n",
    "    app = Application().start(\"C:\\XuanZhi\\LDPlayer\\dnplayer.exe\")\n",
    "    sleep(1)"
   ]
  },
  {
   "cell_type": "code",
   "execution_count": null,
   "metadata": {},
   "outputs": [],
   "source": [
    "def Drag(x_s,y_s,x_e,y_e):\n",
    "    "
   ]
  },
  {
   "cell_type": "markdown",
   "metadata": {},
   "source": [
    "### 画面キャプチャー"
   ]
  },
  {
   "cell_type": "code",
   "execution_count": null,
   "metadata": {},
   "outputs": [],
   "source": [
    "def Capture():\n",
    "    HWND = win32gui.FindWindow(None, \"NoxPlayer\")\n",
    "    rect = win32gui.GetWindowRect(HWND)\n",
    "    grabed_image = ImageGrab.grab()\n",
    "    croped_image = grabed_image.crop(rect)\n",
    "    screen=np.asarray(croped_image)\n",
    "    screen_bgr = cv2.cvtColor(screen, cv2.COLOR_BGR2RGB)\n",
    "    return screen_bgr"
   ]
  },
  {
   "cell_type": "markdown",
   "metadata": {},
   "source": [
    "### マッチング(ボタン位置取得)"
   ]
  },
  {
   "cell_type": "code",
   "execution_count": null,
   "metadata": {
    "scrolled": true
   },
   "outputs": [],
   "source": [
    "def Matching(template,screen):\n",
    "    #画像サイズ取得\n",
    "    h, w = template.shape[0:2]\n",
    "    # Apply template Matching\n",
    "    res = cv2.matchTemplate(screen,template,cv2.TM_CCOEFF_NORMED)\n",
    "    min_val, max_val, min_loc, max_loc = cv2.minMaxLoc(res)\n",
    "    #しきい値によって存在の有無の判断\n",
    "    judge=Judge_Matching(max_val)\n",
    "    print(judge)\n",
    "    print(\"threshold=\",max_val)\n",
    "    # Show result\n",
    "    screen_result=screen.copy()\n",
    "    top_left = max_loc\n",
    "    bottom_right = (top_left[0] + w, top_left[1] + h)\n",
    "    cv2.rectangle(screen_result,top_left, bottom_right, 255, 15)\n",
    "    img_rgb = cv2.cvtColor(screen_result, cv2.COLOR_BGR2RGB)\n",
    "    plt.imshow(img_rgb)\n",
    "    plt.show()\n",
    "    center_x=top_left[0]+w/2\n",
    "    center_y=top_left[1]+h/2\n",
    "    return center_x, center_y,judge"
   ]
  },
  {
   "cell_type": "code",
   "execution_count": null,
   "metadata": {},
   "outputs": [],
   "source": [
    "def Matching_gray(template,screen):\n",
    "    #画像サイズ取得\n",
    "    h, w = template.shape[0:2]\n",
    "    # Apply template Matching\n",
    "    res = cv2.matchTemplate(screen,template,cv2.TM_CCOEFF_NORMED)\n",
    "    min_val, max_val, min_loc, max_loc = cv2.minMaxLoc(res)\n",
    "    #しきい値によって存在の有無の判断\n",
    "    judge=Judge_Matching_battle(max_val)\n",
    "    print(judge)\n",
    "    print(\"threshold=\",max_val)\n",
    "    # Show result\n",
    "    screen_result=screen.copy()\n",
    "    top_left = max_loc\n",
    "    bottom_right = (top_left[0] + w, top_left[1] + h)\n",
    "    cv2.rectangle(screen_result,top_left, bottom_right, 255, 15)\n",
    "    img_rgb = cv2.cvtColor(screen_result, cv2.COLOR_BGR2RGB)\n",
    "    plt.imshow(img_rgb)\n",
    "    plt.show()\n",
    "    center_x=top_left[0]+w/2\n",
    "    center_y=top_left[1]+h/2\n",
    "    return center_x, center_y,judge"
   ]
  },
  {
   "cell_type": "markdown",
   "metadata": {},
   "source": [
    "### マッチング成功or失敗の判断(閾値による)"
   ]
  },
  {
   "cell_type": "code",
   "execution_count": null,
   "metadata": {},
   "outputs": [],
   "source": [
    "def Judge_Matching(num):\n",
    "    THRESHOLD=0.9#閾値\n",
    "    if THRESHOLD < num:\n",
    "        return True\n",
    "    else:\n",
    "        return False"
   ]
  },
  {
   "cell_type": "code",
   "execution_count": null,
   "metadata": {},
   "outputs": [],
   "source": [
    "def Judge_Matching_battle(num):\n",
    "    THRESHOLD=0.8#閾値\n",
    "    if THRESHOLD < num:\n",
    "        return True\n",
    "    else:\n",
    "        return False"
   ]
  },
  {
   "cell_type": "markdown",
   "metadata": {},
   "source": [
    "### テンプレート取得関数"
   ]
  },
  {
   "cell_type": "markdown",
   "metadata": {},
   "source": [
    "#### バトルまでのテンプレート関数"
   ]
  },
  {
   "cell_type": "code",
   "execution_count": null,
   "metadata": {},
   "outputs": [],
   "source": [
    "def Get_template():\n",
    "    #画像読み込み\n",
    "    SOLO= cv2.imread('../../Users/gaife/Desktop/restarting/solo.png',1)\n",
    "    BATU= cv2.imread('../../Users/gaife/Desktop/restarting/batu.png',1)\n",
    "    HOME= cv2.imread('../../Users/gaife/Desktop/restarting/home.png',1)\n",
    "    MAIN= cv2.imread('../../Users/gaife/Desktop/restarting/mainstory.png',1)\n",
    "    START= cv2.imread('../../Users/gaife/Desktop/restarting/start.png',1)\n",
    "    START2= cv2.imread('../../Users/gaife/Desktop/restarting/start2.png',1)\n",
    "    OK= cv2.imread('../../Users/gaife/Desktop/restarting/ok.png',1)\n",
    "    SKIP= cv2.imread('../../Users/gaife/Desktop/restarting/skip.png',1)\n",
    "    #テンプレート作成\n",
    "    template=[START2, MAIN, HOME, START, OK, SOLO, BATU, SKIP]\n",
    "    return template"
   ]
  },
  {
   "cell_type": "markdown",
   "metadata": {},
   "source": [
    "#### バトル用のテンプレート関数"
   ]
  },
  {
   "cell_type": "code",
   "execution_count": null,
   "metadata": {},
   "outputs": [],
   "source": [
    "def Get_template_number():\n",
    "    #画像読み込み\n",
    "    ONE= cv2.imread('../../Users/gaife/Desktop/restarting/number/1.png',0)\n",
    "    TWO= cv2.imread('../../Users/gaife/Desktop/restarting/number/2.png',0)\n",
    "    THREE= cv2.imread('../../Users/gaife/Desktop/restarting/number/3.png',0)\n",
    "    FOUR= cv2.imread('../../Users/gaife/Desktop/restarting/number/4.png',0)\n",
    "    SIX= cv2.imread('../../Users/gaife/Desktop/restarting/number/6.png',0)\n",
    "    #テンプレート作成\n",
    "    template=[SIX, FOUR, THREE, TWO, ONE]\n",
    "    return template"
   ]
  },
  {
   "cell_type": "code",
   "execution_count": null,
   "metadata": {
    "scrolled": true
   },
   "outputs": [],
   "source": [
    "def To_battle():\n",
    "    #初期化\n",
    "    next=False\n",
    "    #画像取得\n",
    "    screen=Capture()\n",
    "    #テンプレート取得\n",
    "    template=Get_template()\n",
    "    #テンプレートでバトル画面まで進む\n",
    "    for i in range(len(template)):\n",
    "        x,y,judge=Matching(template[i],screen)\n",
    "        if judge==True:\n",
    "            Click(int(x),int(y))\n",
    "            next=True\n",
    "    #バトル中か判断\n",
    "    BATTLE= cv2.imread('../../Users/gaife/Desktop/restarting/battle.png',1)\n",
    "    print(\"battle\")\n",
    "    x,y,judge=Matching(BATTLE,screen)\n",
    "    if judge==True:\n",
    "        Click(721,530)#手札をクリックし拡大\n",
    "        next=True\n",
    "    #見つからなくなった場合適当にクリック        \n",
    "    if next!=True:\n",
    "         Click(400,200)#適当に中央クリック\n",
    "         print(\"random click\")"
   ]
  },
  {
   "cell_type": "code",
   "execution_count": null,
   "metadata": {},
   "outputs": [],
   "source": [
    "To_battle()"
   ]
  },
  {
   "cell_type": "code",
   "execution_count": null,
   "metadata": {
    "scrolled": false
   },
   "outputs": [],
   "source": [
    "#初期化\n",
    "next=False\n",
    "judge=False\n",
    "#画像取得\n",
    "screen=Capture()\n",
    "screen_gray=cv2.cvtColor(screen, cv2.COLOR_BGR2GRAY)\n",
    "#テンプレート取得\n",
    "template=Get_template_number()\n",
    "#テンプレートでバトル画面まで進む\n",
    "ite=0\n",
    "while judge==False:\n",
    "    x,y,judge=Matching_gray(template[ite],screen_gray)\n",
    "    if judge==True:\n",
    "            Click(int(x)+50,int(y))\n",
    "            time.sleep(0.5)\n",
    "            Drag(int(x)+50,int(y)+50, 54, 524)#マナに送る\n",
    "    ite++1;"
   ]
  },
  {
   "cell_type": "code",
   "execution_count": null,
   "metadata": {},
   "outputs": [],
   "source": []
  },
  {
   "cell_type": "code",
   "execution_count": null,
   "metadata": {},
   "outputs": [],
   "source": []
  }
 ],
 "metadata": {
  "kernelspec": {
   "display_name": "Python 3",
   "language": "python",
   "name": "python3"
  },
  "language_info": {
   "codemirror_mode": {
    "name": "ipython",
    "version": 3
   },
   "file_extension": ".py",
   "mimetype": "text/x-python",
   "name": "python",
   "nbconvert_exporter": "python",
   "pygments_lexer": "ipython3",
   "version": "3.7.7"
  }
 },
 "nbformat": 4,
 "nbformat_minor": 4
}
